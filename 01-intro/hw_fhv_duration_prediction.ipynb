{
  "cells": [
    {
      "cell_type": "markdown",
      "source": [
        "# **For-Hire Vehicle Trip Records Prediction**"
      ],
      "metadata": {
        "id": "IBeT-PEV02NY"
      },
      "id": "IBeT-PEV02NY"
    },
    {
      "cell_type": "markdown",
      "source": [
        "## Q1. Downloading the data\n",
        "We'll use the same NYC taxi dataset, but instead of \"Green Taxi Trip Records\", we'll use \"For-Hire Vehicle Trip Records\".\n",
        "\n",
        "Download the data for January and February 2021."
      ],
      "metadata": {
        "id": "7ianSmoc3VNT"
      },
      "id": "7ianSmoc3VNT"
    },
    {
      "cell_type": "code",
      "execution_count": 1,
      "id": "41062d8a",
      "metadata": {
        "id": "41062d8a",
        "colab": {
          "base_uri": "https://localhost:8080/"
        },
        "outputId": "ad01cca7-ad2c-4b86-a69e-219d29cbaaa7"
      },
      "outputs": [
        {
          "output_type": "stream",
          "name": "stdout",
          "text": [
            "--2022-05-23 08:33:09--  https://nyc-tlc.s3.amazonaws.com/trip+data/fhv_tripdata_2021-01.parquet\n",
            "Resolving nyc-tlc.s3.amazonaws.com (nyc-tlc.s3.amazonaws.com)... 54.231.228.121\n",
            "Connecting to nyc-tlc.s3.amazonaws.com (nyc-tlc.s3.amazonaws.com)|54.231.228.121|:443... connected.\n",
            "HTTP request sent, awaiting response... 200 OK\n",
            "Length: 11886281 (11M) [binary/octet-stream]\n",
            "Saving to: ‘fhv_tripdata_2021-01.parquet’\n",
            "\n",
            "fhv_tripdata_2021-0 100%[===================>]  11.33M  12.2MB/s    in 0.9s    \n",
            "\n",
            "2022-05-23 08:33:10 (12.2 MB/s) - ‘fhv_tripdata_2021-01.parquet’ saved [11886281/11886281]\n",
            "\n"
          ]
        }
      ],
      "source": [
        "!wget https://nyc-tlc.s3.amazonaws.com/trip+data/fhv_tripdata_2021-01.parquet"
      ]
    },
    {
      "cell_type": "code",
      "execution_count": 2,
      "id": "c984c564",
      "metadata": {
        "id": "c984c564",
        "colab": {
          "base_uri": "https://localhost:8080/"
        },
        "outputId": "14b7f177-c9fa-44cb-86af-6c1c81728dd3"
      },
      "outputs": [
        {
          "output_type": "stream",
          "name": "stdout",
          "text": [
            "--2022-05-23 08:33:10--  https://nyc-tlc.s3.amazonaws.com/trip+data/fhv_tripdata_2021-02.parquet\n",
            "Resolving nyc-tlc.s3.amazonaws.com (nyc-tlc.s3.amazonaws.com)... 52.217.105.124\n",
            "Connecting to nyc-tlc.s3.amazonaws.com (nyc-tlc.s3.amazonaws.com)|52.217.105.124|:443... connected.\n",
            "HTTP request sent, awaiting response... 200 OK\n",
            "Length: 10645466 (10M) [binary/octet-stream]\n",
            "Saving to: ‘fhv_tripdata_2021-02.parquet’\n",
            "\n",
            "fhv_tripdata_2021-0 100%[===================>]  10.15M  12.0MB/s    in 0.8s    \n",
            "\n",
            "2022-05-23 08:33:12 (12.0 MB/s) - ‘fhv_tripdata_2021-02.parquet’ saved [10645466/10645466]\n",
            "\n"
          ]
        }
      ],
      "source": [
        "!wget https://nyc-tlc.s3.amazonaws.com/trip+data/fhv_tripdata_2021-02.parquet"
      ]
    },
    {
      "cell_type": "markdown",
      "source": [
        "Read the data for January."
      ],
      "metadata": {
        "id": "CZVRz07A4nI_"
      },
      "id": "CZVRz07A4nI_"
    },
    {
      "cell_type": "code",
      "source": [
        "import pandas as pd"
      ],
      "metadata": {
        "id": "2GSE95LE4sM2"
      },
      "id": "2GSE95LE4sM2",
      "execution_count": 3,
      "outputs": []
    },
    {
      "cell_type": "code",
      "source": [
        "df = pd.read_parquet('/content/fhv_tripdata_2021-01.parquet')\n",
        "df"
      ],
      "metadata": {
        "colab": {
          "base_uri": "https://localhost:8080/",
          "height": 424
        },
        "id": "K8fYI4u_4zZq",
        "outputId": "de329e74-aeeb-41dd-cd46-17a4df895c62"
      },
      "id": "K8fYI4u_4zZq",
      "execution_count": 4,
      "outputs": [
        {
          "output_type": "execute_result",
          "data": {
            "text/plain": [
              "        dispatching_base_num     pickup_datetime    dropOff_datetime  \\\n",
              "0                     B00009 2021-01-01 00:27:00 2021-01-01 00:44:00   \n",
              "1                     B00009 2021-01-01 00:50:00 2021-01-01 01:07:00   \n",
              "2                     B00013 2021-01-01 00:01:00 2021-01-01 01:51:00   \n",
              "3                     B00037 2021-01-01 00:13:09 2021-01-01 00:21:26   \n",
              "4                     B00037 2021-01-01 00:38:31 2021-01-01 00:53:44   \n",
              "...                      ...                 ...                 ...   \n",
              "1154107               B03266 2021-01-31 23:43:03 2021-01-31 23:51:48   \n",
              "1154108               B03284 2021-01-31 23:50:27 2021-02-01 00:48:03   \n",
              "1154109      B03285          2021-01-31 23:13:46 2021-01-31 23:29:58   \n",
              "1154110      B03285          2021-01-31 23:58:03 2021-02-01 00:17:29   \n",
              "1154111               B03321 2021-01-31 23:39:00 2021-02-01 00:15:00   \n",
              "\n",
              "         PUlocationID  DOlocationID SR_Flag Affiliated_base_number  \n",
              "0                 NaN           NaN    None                 B00009  \n",
              "1                 NaN           NaN    None                 B00009  \n",
              "2                 NaN           NaN    None                 B00013  \n",
              "3                 NaN          72.0    None                 B00037  \n",
              "4                 NaN          61.0    None                 B00037  \n",
              "...               ...           ...     ...                    ...  \n",
              "1154107           7.0           7.0    None                 B03266  \n",
              "1154108          44.0          91.0    None                         \n",
              "1154109         171.0         171.0    None        B03285           \n",
              "1154110          15.0          15.0    None        B03285           \n",
              "1154111           NaN           NaN    None                 B03321  \n",
              "\n",
              "[1154112 rows x 7 columns]"
            ],
            "text/html": [
              "\n",
              "  <div id=\"df-fe4b54e4-e9a7-4d10-91e9-e6a6c51f41b4\">\n",
              "    <div class=\"colab-df-container\">\n",
              "      <div>\n",
              "<style scoped>\n",
              "    .dataframe tbody tr th:only-of-type {\n",
              "        vertical-align: middle;\n",
              "    }\n",
              "\n",
              "    .dataframe tbody tr th {\n",
              "        vertical-align: top;\n",
              "    }\n",
              "\n",
              "    .dataframe thead th {\n",
              "        text-align: right;\n",
              "    }\n",
              "</style>\n",
              "<table border=\"1\" class=\"dataframe\">\n",
              "  <thead>\n",
              "    <tr style=\"text-align: right;\">\n",
              "      <th></th>\n",
              "      <th>dispatching_base_num</th>\n",
              "      <th>pickup_datetime</th>\n",
              "      <th>dropOff_datetime</th>\n",
              "      <th>PUlocationID</th>\n",
              "      <th>DOlocationID</th>\n",
              "      <th>SR_Flag</th>\n",
              "      <th>Affiliated_base_number</th>\n",
              "    </tr>\n",
              "  </thead>\n",
              "  <tbody>\n",
              "    <tr>\n",
              "      <th>0</th>\n",
              "      <td>B00009</td>\n",
              "      <td>2021-01-01 00:27:00</td>\n",
              "      <td>2021-01-01 00:44:00</td>\n",
              "      <td>NaN</td>\n",
              "      <td>NaN</td>\n",
              "      <td>None</td>\n",
              "      <td>B00009</td>\n",
              "    </tr>\n",
              "    <tr>\n",
              "      <th>1</th>\n",
              "      <td>B00009</td>\n",
              "      <td>2021-01-01 00:50:00</td>\n",
              "      <td>2021-01-01 01:07:00</td>\n",
              "      <td>NaN</td>\n",
              "      <td>NaN</td>\n",
              "      <td>None</td>\n",
              "      <td>B00009</td>\n",
              "    </tr>\n",
              "    <tr>\n",
              "      <th>2</th>\n",
              "      <td>B00013</td>\n",
              "      <td>2021-01-01 00:01:00</td>\n",
              "      <td>2021-01-01 01:51:00</td>\n",
              "      <td>NaN</td>\n",
              "      <td>NaN</td>\n",
              "      <td>None</td>\n",
              "      <td>B00013</td>\n",
              "    </tr>\n",
              "    <tr>\n",
              "      <th>3</th>\n",
              "      <td>B00037</td>\n",
              "      <td>2021-01-01 00:13:09</td>\n",
              "      <td>2021-01-01 00:21:26</td>\n",
              "      <td>NaN</td>\n",
              "      <td>72.0</td>\n",
              "      <td>None</td>\n",
              "      <td>B00037</td>\n",
              "    </tr>\n",
              "    <tr>\n",
              "      <th>4</th>\n",
              "      <td>B00037</td>\n",
              "      <td>2021-01-01 00:38:31</td>\n",
              "      <td>2021-01-01 00:53:44</td>\n",
              "      <td>NaN</td>\n",
              "      <td>61.0</td>\n",
              "      <td>None</td>\n",
              "      <td>B00037</td>\n",
              "    </tr>\n",
              "    <tr>\n",
              "      <th>...</th>\n",
              "      <td>...</td>\n",
              "      <td>...</td>\n",
              "      <td>...</td>\n",
              "      <td>...</td>\n",
              "      <td>...</td>\n",
              "      <td>...</td>\n",
              "      <td>...</td>\n",
              "    </tr>\n",
              "    <tr>\n",
              "      <th>1154107</th>\n",
              "      <td>B03266</td>\n",
              "      <td>2021-01-31 23:43:03</td>\n",
              "      <td>2021-01-31 23:51:48</td>\n",
              "      <td>7.0</td>\n",
              "      <td>7.0</td>\n",
              "      <td>None</td>\n",
              "      <td>B03266</td>\n",
              "    </tr>\n",
              "    <tr>\n",
              "      <th>1154108</th>\n",
              "      <td>B03284</td>\n",
              "      <td>2021-01-31 23:50:27</td>\n",
              "      <td>2021-02-01 00:48:03</td>\n",
              "      <td>44.0</td>\n",
              "      <td>91.0</td>\n",
              "      <td>None</td>\n",
              "      <td></td>\n",
              "    </tr>\n",
              "    <tr>\n",
              "      <th>1154109</th>\n",
              "      <td>B03285</td>\n",
              "      <td>2021-01-31 23:13:46</td>\n",
              "      <td>2021-01-31 23:29:58</td>\n",
              "      <td>171.0</td>\n",
              "      <td>171.0</td>\n",
              "      <td>None</td>\n",
              "      <td>B03285</td>\n",
              "    </tr>\n",
              "    <tr>\n",
              "      <th>1154110</th>\n",
              "      <td>B03285</td>\n",
              "      <td>2021-01-31 23:58:03</td>\n",
              "      <td>2021-02-01 00:17:29</td>\n",
              "      <td>15.0</td>\n",
              "      <td>15.0</td>\n",
              "      <td>None</td>\n",
              "      <td>B03285</td>\n",
              "    </tr>\n",
              "    <tr>\n",
              "      <th>1154111</th>\n",
              "      <td>B03321</td>\n",
              "      <td>2021-01-31 23:39:00</td>\n",
              "      <td>2021-02-01 00:15:00</td>\n",
              "      <td>NaN</td>\n",
              "      <td>NaN</td>\n",
              "      <td>None</td>\n",
              "      <td>B03321</td>\n",
              "    </tr>\n",
              "  </tbody>\n",
              "</table>\n",
              "<p>1154112 rows × 7 columns</p>\n",
              "</div>\n",
              "      <button class=\"colab-df-convert\" onclick=\"convertToInteractive('df-fe4b54e4-e9a7-4d10-91e9-e6a6c51f41b4')\"\n",
              "              title=\"Convert this dataframe to an interactive table.\"\n",
              "              style=\"display:none;\">\n",
              "        \n",
              "  <svg xmlns=\"http://www.w3.org/2000/svg\" height=\"24px\"viewBox=\"0 0 24 24\"\n",
              "       width=\"24px\">\n",
              "    <path d=\"M0 0h24v24H0V0z\" fill=\"none\"/>\n",
              "    <path d=\"M18.56 5.44l.94 2.06.94-2.06 2.06-.94-2.06-.94-.94-2.06-.94 2.06-2.06.94zm-11 1L8.5 8.5l.94-2.06 2.06-.94-2.06-.94L8.5 2.5l-.94 2.06-2.06.94zm10 10l.94 2.06.94-2.06 2.06-.94-2.06-.94-.94-2.06-.94 2.06-2.06.94z\"/><path d=\"M17.41 7.96l-1.37-1.37c-.4-.4-.92-.59-1.43-.59-.52 0-1.04.2-1.43.59L10.3 9.45l-7.72 7.72c-.78.78-.78 2.05 0 2.83L4 21.41c.39.39.9.59 1.41.59.51 0 1.02-.2 1.41-.59l7.78-7.78 2.81-2.81c.8-.78.8-2.07 0-2.86zM5.41 20L4 18.59l7.72-7.72 1.47 1.35L5.41 20z\"/>\n",
              "  </svg>\n",
              "      </button>\n",
              "      \n",
              "  <style>\n",
              "    .colab-df-container {\n",
              "      display:flex;\n",
              "      flex-wrap:wrap;\n",
              "      gap: 12px;\n",
              "    }\n",
              "\n",
              "    .colab-df-convert {\n",
              "      background-color: #E8F0FE;\n",
              "      border: none;\n",
              "      border-radius: 50%;\n",
              "      cursor: pointer;\n",
              "      display: none;\n",
              "      fill: #1967D2;\n",
              "      height: 32px;\n",
              "      padding: 0 0 0 0;\n",
              "      width: 32px;\n",
              "    }\n",
              "\n",
              "    .colab-df-convert:hover {\n",
              "      background-color: #E2EBFA;\n",
              "      box-shadow: 0px 1px 2px rgba(60, 64, 67, 0.3), 0px 1px 3px 1px rgba(60, 64, 67, 0.15);\n",
              "      fill: #174EA6;\n",
              "    }\n",
              "\n",
              "    [theme=dark] .colab-df-convert {\n",
              "      background-color: #3B4455;\n",
              "      fill: #D2E3FC;\n",
              "    }\n",
              "\n",
              "    [theme=dark] .colab-df-convert:hover {\n",
              "      background-color: #434B5C;\n",
              "      box-shadow: 0px 1px 3px 1px rgba(0, 0, 0, 0.15);\n",
              "      filter: drop-shadow(0px 1px 2px rgba(0, 0, 0, 0.3));\n",
              "      fill: #FFFFFF;\n",
              "    }\n",
              "  </style>\n",
              "\n",
              "      <script>\n",
              "        const buttonEl =\n",
              "          document.querySelector('#df-fe4b54e4-e9a7-4d10-91e9-e6a6c51f41b4 button.colab-df-convert');\n",
              "        buttonEl.style.display =\n",
              "          google.colab.kernel.accessAllowed ? 'block' : 'none';\n",
              "\n",
              "        async function convertToInteractive(key) {\n",
              "          const element = document.querySelector('#df-fe4b54e4-e9a7-4d10-91e9-e6a6c51f41b4');\n",
              "          const dataTable =\n",
              "            await google.colab.kernel.invokeFunction('convertToInteractive',\n",
              "                                                     [key], {});\n",
              "          if (!dataTable) return;\n",
              "\n",
              "          const docLinkHtml = 'Like what you see? Visit the ' +\n",
              "            '<a target=\"_blank\" href=https://colab.research.google.com/notebooks/data_table.ipynb>data table notebook</a>'\n",
              "            + ' to learn more about interactive tables.';\n",
              "          element.innerHTML = '';\n",
              "          dataTable['output_type'] = 'display_data';\n",
              "          await google.colab.output.renderOutput(dataTable, element);\n",
              "          const docLink = document.createElement('div');\n",
              "          docLink.innerHTML = docLinkHtml;\n",
              "          element.appendChild(docLink);\n",
              "        }\n",
              "      </script>\n",
              "    </div>\n",
              "  </div>\n",
              "  "
            ]
          },
          "metadata": {},
          "execution_count": 4
        }
      ]
    },
    {
      "cell_type": "code",
      "source": [
        "df.info()"
      ],
      "metadata": {
        "colab": {
          "base_uri": "https://localhost:8080/"
        },
        "id": "wWUlXG834-Mm",
        "outputId": "c6736597-99c2-426b-b9fc-05739a82fba4"
      },
      "id": "wWUlXG834-Mm",
      "execution_count": 5,
      "outputs": [
        {
          "output_type": "stream",
          "name": "stdout",
          "text": [
            "<class 'pandas.core.frame.DataFrame'>\n",
            "RangeIndex: 1154112 entries, 0 to 1154111\n",
            "Data columns (total 7 columns):\n",
            " #   Column                  Non-Null Count    Dtype         \n",
            "---  ------                  --------------    -----         \n",
            " 0   dispatching_base_num    1154112 non-null  object        \n",
            " 1   pickup_datetime         1154112 non-null  datetime64[ns]\n",
            " 2   dropOff_datetime        1154112 non-null  datetime64[ns]\n",
            " 3   PUlocationID            195845 non-null   float64       \n",
            " 4   DOlocationID            991892 non-null   float64       \n",
            " 5   SR_Flag                 0 non-null        object        \n",
            " 6   Affiliated_base_number  1153227 non-null  object        \n",
            "dtypes: datetime64[ns](2), float64(2), object(3)\n",
            "memory usage: 61.6+ MB\n"
          ]
        }
      ]
    },
    {
      "cell_type": "markdown",
      "source": [
        "**How many records are there?**\n",
        "> **Answer: 1154112**"
      ],
      "metadata": {
        "id": "5YdoI1mI5F4l"
      },
      "id": "5YdoI1mI5F4l"
    },
    {
      "cell_type": "markdown",
      "source": [
        "## Q2. Computing duration\n",
        "Now let's compute the `duration` variable. It should contain the duration of a ride in minutes."
      ],
      "metadata": {
        "id": "URBZKVgI5YiE"
      },
      "id": "URBZKVgI5YiE"
    },
    {
      "cell_type": "code",
      "execution_count": 6,
      "id": "8e013caf",
      "metadata": {
        "id": "8e013caf",
        "colab": {
          "base_uri": "https://localhost:8080/"
        },
        "outputId": "6d3c4cdf-1441-4949-a5f9-005166f48e33"
      },
      "outputs": [
        {
          "output_type": "execute_result",
          "data": {
            "text/plain": [
              "19.1672240937939"
            ]
          },
          "metadata": {},
          "execution_count": 6
        }
      ],
      "source": [
        "df['duration'] = df['dropOff_datetime'] - df['pickup_datetime']\n",
        "df['duration'] = df.duration.apply(lambda td: td.total_seconds() / 60)\n",
        "\n",
        "df['duration'].mean()"
      ]
    },
    {
      "cell_type": "markdown",
      "source": [
        "**What's the average trip duration in January?**\n",
        "> **Answer: 19.16**\n",
        "\n"
      ],
      "metadata": {
        "id": "O2JJo9206FAL"
      },
      "id": "O2JJo9206FAL"
    },
    {
      "cell_type": "markdown",
      "source": [
        "## Data preparation\n",
        "Check the distribution of the `duration` variable. There are some outliers.\n",
        "\n",
        "Let's remove them and keep only the records where the duration was between 1 and 60 minutes (inclusive)."
      ],
      "metadata": {
        "id": "pvryseAb6R4k"
      },
      "id": "pvryseAb6R4k"
    },
    {
      "cell_type": "code",
      "source": [
        "df.count()"
      ],
      "metadata": {
        "colab": {
          "base_uri": "https://localhost:8080/"
        },
        "id": "nwa-V1gj6mX-",
        "outputId": "fa2c9c5e-6394-4347-cb51-2202041ad206"
      },
      "id": "nwa-V1gj6mX-",
      "execution_count": 7,
      "outputs": [
        {
          "output_type": "execute_result",
          "data": {
            "text/plain": [
              "dispatching_base_num      1154112\n",
              "pickup_datetime           1154112\n",
              "dropOff_datetime          1154112\n",
              "PUlocationID               195845\n",
              "DOlocationID               991892\n",
              "SR_Flag                         0\n",
              "Affiliated_base_number    1153227\n",
              "duration                  1154112\n",
              "dtype: int64"
            ]
          },
          "metadata": {},
          "execution_count": 7
        }
      ]
    },
    {
      "cell_type": "code",
      "source": [
        "df = df[(df.duration >= 1) & (df.duration <= 60)]"
      ],
      "metadata": {
        "id": "0HPBOpIS6q07"
      },
      "id": "0HPBOpIS6q07",
      "execution_count": 8,
      "outputs": []
    },
    {
      "cell_type": "code",
      "source": [
        "df.count()"
      ],
      "metadata": {
        "colab": {
          "base_uri": "https://localhost:8080/"
        },
        "id": "oCBAq51I65uR",
        "outputId": "4462b3fa-4798-4d1f-f443-f34025f73325"
      },
      "id": "oCBAq51I65uR",
      "execution_count": 9,
      "outputs": [
        {
          "output_type": "execute_result",
          "data": {
            "text/plain": [
              "dispatching_base_num      1109826\n",
              "pickup_datetime           1109826\n",
              "dropOff_datetime          1109826\n",
              "PUlocationID               182818\n",
              "DOlocationID               961919\n",
              "SR_Flag                         0\n",
              "Affiliated_base_number    1109053\n",
              "duration                  1109826\n",
              "dtype: int64"
            ]
          },
          "metadata": {},
          "execution_count": 9
        }
      ]
    },
    {
      "cell_type": "code",
      "source": [
        "1154112 - 1109826"
      ],
      "metadata": {
        "colab": {
          "base_uri": "https://localhost:8080/"
        },
        "id": "Xf3JcrxK7CP_",
        "outputId": "1bebe0e6-8e11-4512-ab35-1dbdeb8cb860"
      },
      "id": "Xf3JcrxK7CP_",
      "execution_count": 10,
      "outputs": [
        {
          "output_type": "execute_result",
          "data": {
            "text/plain": [
              "44286"
            ]
          },
          "metadata": {},
          "execution_count": 10
        }
      ]
    },
    {
      "cell_type": "markdown",
      "source": [
        "**How many records did you drop?**\n",
        "> **Answer: 44286**"
      ],
      "metadata": {
        "id": "_GSrikfl7RRi"
      },
      "id": "_GSrikfl7RRi"
    },
    {
      "cell_type": "markdown",
      "source": [
        "## Q3. Missing values\n",
        "The features we'll use for our model are the pickup and dropoff location IDs.\n",
        "\n",
        "But they have a lot of missing values there. Let's replace them with \"-1\"."
      ],
      "metadata": {
        "id": "N-SHE-8y7aFd"
      },
      "id": "N-SHE-8y7aFd"
    },
    {
      "cell_type": "code",
      "source": [
        "df.isnull().sum()"
      ],
      "metadata": {
        "colab": {
          "base_uri": "https://localhost:8080/"
        },
        "id": "5IzAqzyx7YY1",
        "outputId": "60854056-9942-4517-c74d-7d31ba8f6b97"
      },
      "id": "5IzAqzyx7YY1",
      "execution_count": 11,
      "outputs": [
        {
          "output_type": "execute_result",
          "data": {
            "text/plain": [
              "dispatching_base_num            0\n",
              "pickup_datetime                 0\n",
              "dropOff_datetime                0\n",
              "PUlocationID               927008\n",
              "DOlocationID               147907\n",
              "SR_Flag                   1109826\n",
              "Affiliated_base_number        773\n",
              "duration                        0\n",
              "dtype: int64"
            ]
          },
          "metadata": {},
          "execution_count": 11
        }
      ]
    },
    {
      "cell_type": "code",
      "source": [
        "df['PUlocationID'] = df['PUlocationID'].fillna(-1)\n",
        "df['DOlocationID'] = df['DOlocationID'].fillna(-1)"
      ],
      "metadata": {
        "colab": {
          "base_uri": "https://localhost:8080/"
        },
        "id": "9qk3Qxvf7ntX",
        "outputId": "08efa192-900f-4700-87ec-66a6f363d62a"
      },
      "id": "9qk3Qxvf7ntX",
      "execution_count": 12,
      "outputs": [
        {
          "output_type": "stream",
          "name": "stderr",
          "text": [
            "/usr/local/lib/python3.7/dist-packages/ipykernel_launcher.py:1: SettingWithCopyWarning: \n",
            "A value is trying to be set on a copy of a slice from a DataFrame.\n",
            "Try using .loc[row_indexer,col_indexer] = value instead\n",
            "\n",
            "See the caveats in the documentation: https://pandas.pydata.org/pandas-docs/stable/user_guide/indexing.html#returning-a-view-versus-a-copy\n",
            "  \"\"\"Entry point for launching an IPython kernel.\n",
            "/usr/local/lib/python3.7/dist-packages/ipykernel_launcher.py:2: SettingWithCopyWarning: \n",
            "A value is trying to be set on a copy of a slice from a DataFrame.\n",
            "Try using .loc[row_indexer,col_indexer] = value instead\n",
            "\n",
            "See the caveats in the documentation: https://pandas.pydata.org/pandas-docs/stable/user_guide/indexing.html#returning-a-view-versus-a-copy\n",
            "  \n"
          ]
        }
      ]
    },
    {
      "cell_type": "code",
      "source": [
        "df.isnull().sum()"
      ],
      "metadata": {
        "colab": {
          "base_uri": "https://localhost:8080/"
        },
        "id": "OV9w3af-9CmU",
        "outputId": "9b9ad287-80a0-4049-a2d8-0485afbf26dd"
      },
      "id": "OV9w3af-9CmU",
      "execution_count": 13,
      "outputs": [
        {
          "output_type": "execute_result",
          "data": {
            "text/plain": [
              "dispatching_base_num            0\n",
              "pickup_datetime                 0\n",
              "dropOff_datetime                0\n",
              "PUlocationID                    0\n",
              "DOlocationID                    0\n",
              "SR_Flag                   1109826\n",
              "Affiliated_base_number        773\n",
              "duration                        0\n",
              "dtype: int64"
            ]
          },
          "metadata": {},
          "execution_count": 13
        }
      ]
    },
    {
      "cell_type": "code",
      "source": [
        "total_location = 1109826\n",
        "pu_location = 927008\n",
        "\n",
        "fraction_location = (pu_location / total_location) * 100\n",
        "fraction_location"
      ],
      "metadata": {
        "colab": {
          "base_uri": "https://localhost:8080/"
        },
        "id": "eoKuV-IZ9HRK",
        "outputId": "6c5d35ab-4088-4c00-b07d-8c2e69a37009"
      },
      "id": "eoKuV-IZ9HRK",
      "execution_count": 14,
      "outputs": [
        {
          "output_type": "execute_result",
          "data": {
            "text/plain": [
              "83.52732770722618"
            ]
          },
          "metadata": {},
          "execution_count": 14
        }
      ]
    },
    {
      "cell_type": "markdown",
      "source": [
        "**What's the fractions of missing values for the pickup location ID?**\n",
        "> **Answer: 83%**"
      ],
      "metadata": {
        "id": "gozQkh8u9RMT"
      },
      "id": "gozQkh8u9RMT"
    },
    {
      "cell_type": "markdown",
      "source": [
        "## Q4. One-hot encoding\n",
        "Let's apply one-hot encoding to the pickup and dropoff location IDs. We'll use only these two features for our model.\n",
        "\n",
        "* Turn the dataframe into a list of dictionaries\n",
        "* Fit a dictionary vectorizer\n",
        "* Get a feature matrix from it"
      ],
      "metadata": {
        "id": "znJif-ZI-aOC"
      },
      "id": "znJif-ZI-aOC"
    },
    {
      "cell_type": "code",
      "source": [
        "from sklearn.feature_extraction import DictVectorizer"
      ],
      "metadata": {
        "id": "WqD0Hgod_KBw"
      },
      "id": "WqD0Hgod_KBw",
      "execution_count": 15,
      "outputs": []
    },
    {
      "cell_type": "code",
      "source": [
        "categorical = ['PUlocationID', 'DOlocationID']\n",
        "numerical = ['duration']\n",
        "\n",
        "df[categorical] = df[categorical].astype(str)"
      ],
      "metadata": {
        "colab": {
          "base_uri": "https://localhost:8080/"
        },
        "id": "p4sZTvxu-2wP",
        "outputId": "2dc9b68a-614f-43d5-cd8f-4b6349785085"
      },
      "id": "p4sZTvxu-2wP",
      "execution_count": 16,
      "outputs": [
        {
          "output_type": "stream",
          "name": "stderr",
          "text": [
            "/usr/local/lib/python3.7/dist-packages/pandas/core/frame.py:3641: SettingWithCopyWarning: \n",
            "A value is trying to be set on a copy of a slice from a DataFrame.\n",
            "Try using .loc[row_indexer,col_indexer] = value instead\n",
            "\n",
            "See the caveats in the documentation: https://pandas.pydata.org/pandas-docs/stable/user_guide/indexing.html#returning-a-view-versus-a-copy\n",
            "  self[k1] = value[k2]\n"
          ]
        }
      ]
    },
    {
      "cell_type": "code",
      "source": [
        "train_dicts = df[categorical].to_dict(orient='records')\n",
        "\n",
        "dv = DictVectorizer()\n",
        "X_train = dv.fit_transform(train_dicts)"
      ],
      "metadata": {
        "id": "iUxWN8ZX-M7n"
      },
      "id": "iUxWN8ZX-M7n",
      "execution_count": 17,
      "outputs": []
    },
    {
      "cell_type": "code",
      "source": [
        "X_train.shape"
      ],
      "metadata": {
        "colab": {
          "base_uri": "https://localhost:8080/"
        },
        "id": "xobTF-3C_TIJ",
        "outputId": "57c1048f-0f48-40ef-ba69-b944d54008f8"
      },
      "id": "xobTF-3C_TIJ",
      "execution_count": 18,
      "outputs": [
        {
          "output_type": "execute_result",
          "data": {
            "text/plain": [
              "(1109826, 525)"
            ]
          },
          "metadata": {},
          "execution_count": 18
        }
      ]
    },
    {
      "cell_type": "markdown",
      "source": [
        "**What's the dimensionality of this matrix? (The number of columns)**\n",
        "> **Answer: 525**\n"
      ],
      "metadata": {
        "id": "7mRbZRqM_dVm"
      },
      "id": "7mRbZRqM_dVm"
    },
    {
      "cell_type": "markdown",
      "source": [
        "## Q5. Training a model\n",
        "Now let's use the feature matrix from the previous step to train a model.\n",
        "\n",
        "Train a plain linear regression model with default parameters\n",
        "Calculate the RMSE of the model on the training data"
      ],
      "metadata": {
        "id": "Yjicn9LCAcOA"
      },
      "id": "Yjicn9LCAcOA"
    },
    {
      "cell_type": "code",
      "source": [
        "from sklearn.linear_model import LinearRegression\n",
        "from sklearn.metrics import mean_squared_error"
      ],
      "metadata": {
        "id": "dhwdkDLeAxb_"
      },
      "id": "dhwdkDLeAxb_",
      "execution_count": 19,
      "outputs": []
    },
    {
      "cell_type": "code",
      "source": [
        "target = 'duration'\n",
        "y_train = df[target].values"
      ],
      "metadata": {
        "id": "4B0E_xsqAvC1"
      },
      "id": "4B0E_xsqAvC1",
      "execution_count": 20,
      "outputs": []
    },
    {
      "cell_type": "code",
      "source": [
        "lr = LinearRegression()\n",
        "lr.fit(X_train, y_train)\n",
        "\n",
        "y_pred = lr.predict(X_train)\n",
        "\n",
        "mean_squared_error(y_train, y_pred, squared=False)"
      ],
      "metadata": {
        "colab": {
          "base_uri": "https://localhost:8080/"
        },
        "id": "nJvwTCoS_UO7",
        "outputId": "99a83602-a476-4299-b7d3-cde4e884d2af"
      },
      "id": "nJvwTCoS_UO7",
      "execution_count": 21,
      "outputs": [
        {
          "output_type": "execute_result",
          "data": {
            "text/plain": [
              "10.528519107210744"
            ]
          },
          "metadata": {},
          "execution_count": 21
        }
      ]
    },
    {
      "cell_type": "markdown",
      "source": [
        "**What's the RMSE on train?**\n",
        "> **Answer: 10.52**"
      ],
      "metadata": {
        "id": "-Px_uOVWAfx3"
      },
      "id": "-Px_uOVWAfx3"
    },
    {
      "cell_type": "markdown",
      "source": [
        "## Q6. Evaluating the model\n",
        "Now let's apply this model to the validation dataset (Feb 2021)."
      ],
      "metadata": {
        "id": "I0wM6wofBGjK"
      },
      "id": "I0wM6wofBGjK"
    },
    {
      "cell_type": "code",
      "source": [
        "df_val = pd.read_parquet('fhv_tripdata_2021-02.parquet')"
      ],
      "metadata": {
        "id": "IJtwORHzBKeO"
      },
      "id": "IJtwORHzBKeO",
      "execution_count": 22,
      "outputs": []
    },
    {
      "cell_type": "code",
      "source": [
        "df_val['duration'] = df['dropOff_datetime'] - df['pickup_datetime']\n",
        "df_val.duration = df_val.duration.apply(lambda td: td.total_seconds() / 60)"
      ],
      "metadata": {
        "id": "9WxFcQa-BgwI"
      },
      "id": "9WxFcQa-BgwI",
      "execution_count": 23,
      "outputs": []
    },
    {
      "cell_type": "code",
      "source": [
        "df_val = df_val[(df_val.duration >= 1) & (df_val.duration <= 60)]\n",
        "df_val[categorical] = df_val[categorical].astype(str)"
      ],
      "metadata": {
        "id": "RybyIMIvBiox"
      },
      "id": "RybyIMIvBiox",
      "execution_count": 24,
      "outputs": []
    },
    {
      "cell_type": "code",
      "source": [
        "val_dicts = df_val[categorical].to_dict(orient='records')\n",
        "X_val = dv.transform(val_dicts)"
      ],
      "metadata": {
        "id": "UwwEUHX4Bl0_"
      },
      "id": "UwwEUHX4Bl0_",
      "execution_count": 25,
      "outputs": []
    },
    {
      "cell_type": "code",
      "source": [
        "y_val = df_val[target].values"
      ],
      "metadata": {
        "id": "6thE2CYkBmWG"
      },
      "id": "6thE2CYkBmWG",
      "execution_count": 26,
      "outputs": []
    },
    {
      "cell_type": "code",
      "source": [
        "y_pred = lr.predict(X_val)"
      ],
      "metadata": {
        "id": "sbn_vJFaBoft"
      },
      "id": "sbn_vJFaBoft",
      "execution_count": 27,
      "outputs": []
    },
    {
      "cell_type": "code",
      "source": [
        "mean_squared_error(y_val, y_pred, squared=False)"
      ],
      "metadata": {
        "colab": {
          "base_uri": "https://localhost:8080/"
        },
        "id": "KTl5EUklBqcC",
        "outputId": "b4fc8865-d909-4f56-aa2f-0d69af2f5d56"
      },
      "id": "KTl5EUklBqcC",
      "execution_count": 28,
      "outputs": [
        {
          "output_type": "execute_result",
          "data": {
            "text/plain": [
              "12.477593287332843"
            ]
          },
          "metadata": {},
          "execution_count": 28
        }
      ]
    },
    {
      "cell_type": "markdown",
      "source": [
        "**What's the RMSE on validation?**\n",
        "> **Answer: 21.01**"
      ],
      "metadata": {
        "id": "y0WNLUelBLDN"
      },
      "id": "y0WNLUelBLDN"
    }
  ],
  "metadata": {
    "kernelspec": {
      "display_name": "Python 3 (ipykernel)",
      "language": "python",
      "name": "python3"
    },
    "language_info": {
      "codemirror_mode": {
        "name": "ipython",
        "version": 3
      },
      "file_extension": ".py",
      "mimetype": "text/x-python",
      "name": "python",
      "nbconvert_exporter": "python",
      "pygments_lexer": "ipython3",
      "version": "3.9.7"
    },
    "colab": {
      "name": "hw-fhv-duration-prediction.ipynb",
      "provenance": [],
      "collapsed_sections": []
    }
  },
  "nbformat": 4,
  "nbformat_minor": 5
}