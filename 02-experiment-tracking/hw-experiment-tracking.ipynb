{
 "cells": [
  {
   "cell_type": "markdown",
   "metadata": {},
   "source": [
    "# **Experiment Tracking with MLflow**"
   ]
  },
  {
   "cell_type": "markdown",
   "metadata": {},
   "source": [
    "## Q1. Install MLflow"
   ]
  },
  {
   "cell_type": "code",
   "execution_count": 1,
   "metadata": {},
   "outputs": [
    {
     "name": "stdout",
     "output_type": "stream",
     "text": [
      "mlflow, version 1.26.1\n"
     ]
    }
   ],
   "source": [
    "!mlflow --version"
   ]
  },
  {
   "cell_type": "markdown",
   "metadata": {},
   "source": [
    "## Q2. Download and preprocess the data"
   ]
  },
  {
   "cell_type": "code",
   "execution_count": 2,
   "metadata": {},
   "outputs": [],
   "source": [
    "!python preprocess_data.py --raw_data_path data/ --dest_path output/"
   ]
  },
  {
   "cell_type": "code",
   "execution_count": 3,
   "metadata": {},
   "outputs": [
    {
     "name": "stdout",
     "output_type": "stream",
     "text": [
      " Volume in drive E is Data\n",
      " Volume Serial Number is 5630-3F58\n",
      "\n",
      " Directory of e:\\Justin\\Documents\\Codes\\data-talks-club\\mlops-zoomcamp\\02-experiment-tracking\\output\n",
      "\n",
      "30/05/2022  08:35 pm    <DIR>          .\n",
      "30/05/2022  08:35 pm    <DIR>          ..\n",
      "30/05/2022  08:39 pm           305,256 dv.pkl\n",
      "30/05/2022  08:39 pm         2,805,197 test.pkl\n",
      "30/05/2022  08:39 pm         2,661,149 train.pkl\n",
      "30/05/2022  08:39 pm         2,166,527 valid.pkl\n",
      "               4 File(s)      7,938,129 bytes\n",
      "               2 Dir(s)  32,199,675,904 bytes free\n"
     ]
    }
   ],
   "source": [
    "ls output"
   ]
  },
  {
   "cell_type": "markdown",
   "metadata": {},
   "source": [
    "How many files were saved to `OUTPUT_FOLDER`?\n",
    "> **Answer: 4**"
   ]
  },
  {
   "cell_type": "markdown",
   "metadata": {},
   "source": [
    "## Q3. Train a model with autolog"
   ]
  },
  {
   "cell_type": "code",
   "execution_count": 4,
   "metadata": {},
   "outputs": [
    {
     "name": "stdout",
     "output_type": "stream",
     "text": [
      "train.py\n"
     ]
    },
    {
     "name": "stderr",
     "output_type": "stream",
     "text": [
      "2022/05/30 20:39:36 INFO mlflow.tracking.fluent: Autologging successfully enabled for sklearn.\n"
     ]
    }
   ],
   "source": [
    "!python train.py --data_path output/"
   ]
  },
  {
   "cell_type": "markdown",
   "metadata": {},
   "source": [
    "How many parameters are automatically logged by MLflow?\n",
    "> **Answer: 17**"
   ]
  },
  {
   "cell_type": "markdown",
   "metadata": {},
   "source": [
    "## Q5. Tune the hyperparameters of the model\n"
   ]
  },
  {
   "cell_type": "code",
   "execution_count": 5,
   "metadata": {},
   "outputs": [
    {
     "name": "stdout",
     "output_type": "stream",
     "text": [
      "hpo.py\n",
      "\n",
      "  0%|          | 0/50 [00:00<?, ?trial/s, best loss=?]\n",
      "  2%|▏         | 1/50 [00:33<27:21, 33.51s/trial, best loss: 6.658956269343007]\n",
      "  4%|▍         | 2/50 [00:34<11:36, 14.52s/trial, best loss: 6.658956269343007]\n",
      "  6%|▌         | 3/50 [00:37<07:18,  9.32s/trial, best loss: 6.658956269343007]\n",
      "  8%|▊         | 4/50 [01:01<11:30, 15.01s/trial, best loss: 6.651438559376775]\n",
      " 10%|█         | 5/50 [01:09<09:23, 12.51s/trial, best loss: 6.651438559376775]\n",
      " 12%|█▏        | 6/50 [01:43<14:28, 19.74s/trial, best loss: 6.651438559376775]\n",
      " 14%|█▍        | 7/50 [02:21<18:31, 25.84s/trial, best loss: 6.651438559376775]\n",
      " 16%|█▌        | 8/50 [02:26<13:20, 19.06s/trial, best loss: 6.651438559376775]\n",
      " 18%|█▊        | 9/50 [02:48<13:40, 20.00s/trial, best loss: 6.651438559376775]\n",
      " 20%|██        | 10/50 [03:09<13:32, 20.31s/trial, best loss: 6.651438559376775]\n",
      " 22%|██▏       | 11/50 [03:28<12:51, 19.79s/trial, best loss: 6.642137287429206]\n",
      " 24%|██▍       | 12/50 [03:37<10:30, 16.60s/trial, best loss: 6.642137287429206]\n",
      " 26%|██▌       | 13/50 [03:41<07:49, 12.68s/trial, best loss: 6.642137287429206]\n",
      " 28%|██▊       | 14/50 [03:55<07:59, 13.32s/trial, best loss: 6.642137287429206]\n",
      " 30%|███       | 15/50 [04:19<09:31, 16.32s/trial, best loss: 6.642137287429206]\n",
      " 32%|███▏      | 16/50 [04:30<08:26, 14.91s/trial, best loss: 6.642137287429206]\n",
      " 34%|███▍      | 17/50 [04:49<08:49, 16.05s/trial, best loss: 6.642137287429206]\n",
      " 36%|███▌      | 18/50 [05:27<12:06, 22.69s/trial, best loss: 6.629728007710133]\n",
      " 38%|███▊      | 19/50 [05:36<09:30, 18.40s/trial, best loss: 6.629728007710133]\n",
      " 40%|████      | 20/50 [05:40<07:09, 14.32s/trial, best loss: 6.629728007710133]\n",
      " 42%|████▏     | 21/50 [06:38<13:15, 27.44s/trial, best loss: 6.629728007710133]\n",
      " 44%|████▍     | 22/50 [07:12<13:41, 29.35s/trial, best loss: 6.629728007710133]\n",
      " 46%|████▌     | 23/50 [08:19<18:19, 40.72s/trial, best loss: 6.629728007710133]\n",
      " 48%|████▊     | 24/50 [09:12<19:11, 44.29s/trial, best loss: 6.629728007710133]\n",
      " 50%|█████     | 25/50 [09:55<18:20, 44.01s/trial, best loss: 6.629728007710133]\n",
      " 52%|█████▏    | 26/50 [10:36<17:14, 43.10s/trial, best loss: 6.629728007710133]\n",
      " 54%|█████▍    | 27/50 [10:50<13:07, 34.26s/trial, best loss: 6.629728007710133]\n",
      " 56%|█████▌    | 28/50 [11:35<13:44, 37.47s/trial, best loss: 6.629728007710133]\n",
      " 58%|█████▊    | 29/50 [11:48<10:34, 30.19s/trial, best loss: 6.629728007710133]\n",
      " 60%|██████    | 30/50 [12:31<11:19, 33.97s/trial, best loss: 6.629728007710133]\n",
      " 62%|██████▏   | 31/50 [12:32<07:40, 24.21s/trial, best loss: 6.629728007710133]\n",
      " 64%|██████▍   | 32/50 [13:02<07:45, 25.88s/trial, best loss: 6.629728007710133]\n",
      " 66%|██████▌   | 33/50 [14:12<11:05, 39.17s/trial, best loss: 6.629728007710133]\n",
      " 68%|██████▊   | 34/50 [15:05<11:30, 43.16s/trial, best loss: 6.6284257482044735]\n",
      " 70%|███████   | 35/50 [15:28<09:17, 37.19s/trial, best loss: 6.6284257482044735]\n",
      " 72%|███████▏  | 36/50 [15:48<07:29, 32.10s/trial, best loss: 6.6284257482044735]\n",
      " 74%|███████▍  | 37/50 [15:50<04:59, 23.02s/trial, best loss: 6.6284257482044735]\n",
      " 76%|███████▌  | 38/50 [16:21<05:03, 25.27s/trial, best loss: 6.6284257482044735]\n",
      " 78%|███████▊  | 39/50 [16:58<05:17, 28.86s/trial, best loss: 6.6284257482044735]\n",
      " 80%|████████  | 40/50 [17:28<04:51, 29.12s/trial, best loss: 6.6284257482044735]\n",
      " 82%|████████▏ | 41/50 [17:32<03:15, 21.72s/trial, best loss: 6.6284257482044735]\n",
      " 84%|████████▍ | 42/50 [17:45<02:31, 18.98s/trial, best loss: 6.6284257482044735]\n",
      " 86%|████████▌ | 43/50 [18:02<02:09, 18.55s/trial, best loss: 6.6284257482044735]\n",
      " 88%|████████▊ | 44/50 [18:26<02:00, 20.11s/trial, best loss: 6.6284257482044735]\n",
      " 90%|█████████ | 45/50 [18:36<01:25, 17.18s/trial, best loss: 6.6284257482044735]\n",
      " 92%|█████████▏| 46/50 [18:39<00:51, 12.84s/trial, best loss: 6.6284257482044735]\n",
      " 94%|█████████▍| 47/50 [19:01<00:46, 15.62s/trial, best loss: 6.6284257482044735]\n",
      " 96%|█████████▌| 48/50 [19:11<00:27, 13.92s/trial, best loss: 6.6284257482044735]\n",
      " 98%|█████████▊| 49/50 [19:41<00:18, 18.81s/trial, best loss: 6.6284257482044735]\n",
      "100%|██████████| 50/50 [20:19<00:00, 24.63s/trial, best loss: 6.6284257482044735]\n",
      "100%|██████████| 50/50 [20:19<00:00, 24.40s/trial, best loss: 6.6284257482044735]\n"
     ]
    },
    {
     "name": "stderr",
     "output_type": "stream",
     "text": [
      "2022/05/30 20:59:02 INFO mlflow.tracking.fluent: Experiment with name 'random-forest-hyperopt' does not exist. Creating a new experiment.\n"
     ]
    }
   ],
   "source": [
    "!python hpo.py --data_path output/"
   ]
  },
  {
   "cell_type": "markdown",
   "metadata": {},
   "source": [
    "What's the best validation RMSE that you got?\n",
    "> **Answer: 6.628**"
   ]
  },
  {
   "cell_type": "markdown",
   "metadata": {},
   "source": [
    "## Q6. Promote the best model to the model registry"
   ]
  },
  {
   "cell_type": "code",
   "execution_count": 6,
   "metadata": {},
   "outputs": [
    {
     "name": "stdout",
     "output_type": "stream",
     "text": [
      "register_model.py\n",
      "Amount of runs: 5\n",
      "Best run ID: runs:/ae9b2920602c451c8183c4a91ce1f6c0/models\n"
     ]
    },
    {
     "name": "stderr",
     "output_type": "stream",
     "text": [
      "2022/05/30 21:25:14 INFO mlflow.tracking.fluent: Experiment with name 'random-forest-best-models' does not exist. Creating a new experiment.\n",
      "Successfully registered model 'RandomForestRegressionModel'.\n",
      "2022/05/30 21:28:29 INFO mlflow.tracking._model_registry.client: Waiting up to 300 seconds for model version to finish creation.                     Model name: RandomForestRegressionModel, version 1\n",
      "Created version '1' of model 'RandomForestRegressionModel'.\n"
     ]
    }
   ],
   "source": [
    "!python register_model.py --data_path output/"
   ]
  },
  {
   "cell_type": "markdown",
   "metadata": {},
   "source": [
    "What is the test RMSE of the best model?\n",
    "> **Answer: 6.55**"
   ]
  }
 ],
 "metadata": {
  "interpreter": {
   "hash": "757894137d1983ecf2191a5883158644eaf57d0027eccf26a4176fc9a65f2859"
  },
  "kernelspec": {
   "display_name": "Python 3.9.7 ('.venv': venv)",
   "language": "python",
   "name": "python3"
  },
  "language_info": {
   "codemirror_mode": {
    "name": "ipython",
    "version": 3
   },
   "file_extension": ".py",
   "mimetype": "text/x-python",
   "name": "python",
   "nbconvert_exporter": "python",
   "pygments_lexer": "ipython3",
   "version": "3.9.7"
  }
 },
 "nbformat": 4,
 "nbformat_minor": 2
}
